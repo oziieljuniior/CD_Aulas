{
 "cells": [
  {
   "attachments": {},
   "cell_type": "markdown",
   "metadata": {},
   "source": [
    "# Listas"
   ]
  },
  {
   "cell_type": "code",
   "execution_count": 1,
   "metadata": {},
   "outputs": [
    {
     "name": "stdout",
     "output_type": "stream",
     "text": [
      "[1, 2, 3, 4, 5]\n",
      "<class 'list'>\n"
     ]
    }
   ],
   "source": [
    "vetor = [1, 2, 3, 4, 5]\n",
    "print(vetor)\n",
    "print(type(vetor))"
   ]
  },
  {
   "cell_type": "code",
   "execution_count": 2,
   "metadata": {},
   "outputs": [
    {
     "name": "stdout",
     "output_type": "stream",
     "text": [
      "[1, 2, 3, 2, 3, 1]\n"
     ]
    }
   ],
   "source": [
    "vetor1 = [1,2,3]\n",
    "vetor2 = [2,3,1]\n",
    "\n",
    "soma = vetor1 + vetor2\n",
    "\n",
    "print(soma)"
   ]
  },
  {
   "cell_type": "code",
   "execution_count": 6,
   "metadata": {},
   "outputs": [
    {
     "name": "stdout",
     "output_type": "stream",
     "text": [
      "[1, 2, 3, 1, 2, 3, 1, 2, 3]\n"
     ]
    }
   ],
   "source": [
    "mult = 3*vetor1\n",
    "#div = vetor1 / 2\n",
    "print(mult)\n",
    "#print(div)"
   ]
  },
  {
   "cell_type": "code",
   "execution_count": 8,
   "metadata": {},
   "outputs": [
    {
     "name": "stdout",
     "output_type": "stream",
     "text": [
      "['a', 'b', 'c']\n",
      "<class 'list'>\n"
     ]
    }
   ],
   "source": [
    "vetor_texto = ['a', 'b', 'c']\n",
    "print(vetor_texto)\n",
    "print(type(vetor_texto))"
   ]
  },
  {
   "cell_type": "code",
   "execution_count": 9,
   "metadata": {},
   "outputs": [
    {
     "name": "stdout",
     "output_type": "stream",
     "text": [
      "['a', 'b', 'c', 1, 2, 3]\n"
     ]
    }
   ],
   "source": [
    "soma_t = vetor_texto + vetor1\n",
    "print(soma_t)"
   ]
  },
  {
   "cell_type": "code",
   "execution_count": 10,
   "metadata": {},
   "outputs": [
    {
     "name": "stdout",
     "output_type": "stream",
     "text": [
      "6\n"
     ]
    }
   ],
   "source": [
    "tamanho = len(soma_t)\n",
    "print(tamanho)"
   ]
  },
  {
   "cell_type": "code",
   "execution_count": 18,
   "metadata": {},
   "outputs": [
    {
     "name": "stdout",
     "output_type": "stream",
     "text": [
      "a\n",
      "<class 'str'>\n",
      "3\n",
      "<class 'int'>\n",
      "3\n",
      "['a', 'b', 'c']\n",
      "[1, 2, 3]\n"
     ]
    }
   ],
   "source": [
    "elemento1 = soma_t[0]\n",
    "print(elemento1)\n",
    "print(type(elemento1))\n",
    "\n",
    "######################\n",
    "elemento6 = soma_t[5]\n",
    "print(elemento6)\n",
    "print(type(elemento6))\n",
    "\n",
    "elemento6i = soma_t[-1]\n",
    "print(elemento6i)\n",
    "\n",
    "#######################\n",
    "elemento_seguido = soma_t[:3]\n",
    "print(elemento_seguido)\n",
    "\n",
    "elemento_seguido1 = soma_t[3:]\n",
    "print(elemento_seguido1)"
   ]
  },
  {
   "cell_type": "code",
   "execution_count": 21,
   "metadata": {},
   "outputs": [
    {
     "name": "stdout",
     "output_type": "stream",
     "text": [
      "['a', 'b', 'c', 1, 2, 3]\n",
      "a\n",
      "b\n",
      "c\n",
      "1\n",
      "2\n",
      "3\n"
     ]
    }
   ],
   "source": [
    "i = 0\n",
    "print(soma_t)\n",
    "tamanho = len(soma_t)\n",
    "\n",
    "while i < tamanho:\n",
    "    print(soma_t[i])\n",
    "    \n",
    "    i = i + 1\n",
    "    #print(i)"
   ]
  }
 ],
 "metadata": {
  "kernelspec": {
   "display_name": "venv",
   "language": "python",
   "name": "python3"
  },
  "language_info": {
   "codemirror_mode": {
    "name": "ipython",
    "version": 3
   },
   "file_extension": ".py",
   "mimetype": "text/x-python",
   "name": "python",
   "nbconvert_exporter": "python",
   "pygments_lexer": "ipython3",
   "version": "3.10.10"
  },
  "orig_nbformat": 4,
  "vscode": {
   "interpreter": {
    "hash": "048a68f64f00caf1b8a6c4e4e1b6d65ff2a5b016626c2aeee755cba713573629"
   }
  }
 },
 "nbformat": 4,
 "nbformat_minor": 2
}
