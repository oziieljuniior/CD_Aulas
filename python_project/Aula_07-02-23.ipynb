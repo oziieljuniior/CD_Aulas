{
 "cells": [
  {
   "attachments": {},
   "cell_type": "markdown",
   "metadata": {},
   "source": [
    "# Aula 07-02-2023"
   ]
  },
  {
   "attachments": {},
   "cell_type": "markdown",
   "metadata": {},
   "source": [
    "- Exemplo 1"
   ]
  },
  {
   "cell_type": "code",
   "execution_count": 4,
   "metadata": {},
   "outputs": [
    {
     "name": "stdout",
     "output_type": "stream",
     "text": [
      "4.67\n"
     ]
    }
   ],
   "source": [
    "entrada1 = float(input(\"Nota 1: \"))                 #Variáveis salvas\n",
    "entrada2 = float(input(\"Nota 2: \"))\n",
    "entrada3 = float(input(\"Nota 3: \"))\n",
    "media = round((entrada1 + entrada2 + entrada3) / 3, 2) \n",
    "print(media)"
   ]
  },
  {
   "attachments": {},
   "cell_type": "markdown",
   "metadata": {},
   "source": [
    "- Exemplo 2"
   ]
  },
  {
   "cell_type": "code",
   "execution_count": 6,
   "metadata": {},
   "outputs": [
    {
     "name": "stdout",
     "output_type": "stream",
     "text": [
      "Estou rodando e vou atualizar o i\n",
      "Novo i:  1\n",
      "Estou rodando e vou atualizar o i\n",
      "Novo i:  2\n",
      "Estou rodando e vou atualizar o i\n",
      "Novo i:  3\n",
      "Estou rodando e vou atualizar o i\n",
      "Novo i:  4\n",
      "Estou rodando e vou atualizar o i\n",
      "Novo i:  5\n",
      "Estou rodando e vou atualizar o i\n",
      "Novo i:  6\n",
      "Estou rodando e vou atualizar o i\n",
      "Novo i:  7\n",
      "Estou rodando e vou atualizar o i\n",
      "Novo i:  8\n",
      "Estou rodando e vou atualizar o i\n",
      "Novo i:  9\n",
      "Estou rodando e vou atualizar o i\n",
      "Novo i:  10\n",
      "Estou rodando e vou atualizar o i\n",
      "Novo i:  11\n",
      "Apos rodar o codigo obtemos o novo i:  11\n"
     ]
    }
   ],
   "source": [
    "i = 0\n",
    "\n",
    "while i <= 10:\n",
    "    print(\"Estou rodando e vou atualizar o i\")\n",
    "    i = i + 1\n",
    "    print(\"Novo i: \", i)\n",
    "print(\"Apos rodar o codigo obtemos o novo i: \", i)"
   ]
  },
  {
   "attachments": {},
   "cell_type": "markdown",
   "metadata": {},
   "source": [
    "- Exemplo 3"
   ]
  },
  {
   "cell_type": "code",
   "execution_count": 4,
   "metadata": {},
   "outputs": [
    {
     "name": "stdout",
     "output_type": "stream",
     "text": [
      "Nota do aluno  1\n",
      "Nota 1:  5.0\n",
      "Nota 2:  6.25\n",
      "Nota 3:  4.15\n",
      "Media:  5.13\n",
      "contador novo:  2\n",
      "*-*-*-*-*-*-*-*-*-*-*-*-*-*-*-*-*-*-*-*-*-*-*-*-*-*-*-*-*-*-*-*-*-*-*-*-*-*-*-*-*-*-*-*-*-*-*-*-*-*-\n",
      "Nota do aluno  2\n",
      "Nota 1:  7.1\n",
      "Nota 2:  7.5\n",
      "Nota 3:  8.2\n",
      "Media:  7.6\n",
      "contador novo:  3\n",
      "*-*-*-*-*-*-*-*-*-*-*-*-*-*-*-*-*-*-*-*-*-*-*-*-*-*-*-*-*-*-*-*-*-*-*-*-*-*-*-*-*-*-*-*-*-*-*-*-*-*-\n",
      "Nota do aluno  3\n",
      "Nota 1:  3.0\n",
      "Nota 2:  0.0\n",
      "Nota 3:  10.0\n",
      "Media:  4.33\n",
      "contador novo:  4\n",
      "*-*-*-*-*-*-*-*-*-*-*-*-*-*-*-*-*-*-*-*-*-*-*-*-*-*-*-*-*-*-*-*-*-*-*-*-*-*-*-*-*-*-*-*-*-*-*-*-*-*-\n"
     ]
    }
   ],
   "source": [
    "#contador\n",
    "i = 1\n",
    "#quantidade de alunos\n",
    "n = int(input(\"Quantidade de alunos para calcular a media: \"))\n",
    "\n",
    "while i <= n:\n",
    "    print(\"Nota do aluno \", i )\n",
    "    entrada1 = float(input(\"Nota 1: \"))  #Variáveis salvas\n",
    "    print(\"Nota 1: \",entrada1)\n",
    "    entrada2 = float(input(\"Nota 2: \"))\n",
    "    print(\"Nota 2: \",entrada2)\n",
    "    entrada3 = float(input(\"Nota 3: \"))\n",
    "    print(\"Nota 3: \",entrada3)\n",
    "    #round ajusta a quantidade de casas decimais round(x,y)\n",
    "    #x - a operação matemática\n",
    "    #y - a quantidade de casas decimais ]\n",
    "    x = (entrada1 + entrada2 + entrada3) / 3\n",
    "    y = 2\n",
    "    media = round(x, y) \n",
    "    print(\"Media: \",media)\n",
    "    \n",
    "    i = i + 1 \n",
    "    print(\"contador novo: \", i)\n",
    "    print(\"*-\"*50)\n"
   ]
  },
  {
   "attachments": {},
   "cell_type": "markdown",
   "metadata": {},
   "source": [
    "- Exemplo 4"
   ]
  },
  {
   "cell_type": "code",
   "execution_count": 20,
   "metadata": {},
   "outputs": [
    {
     "name": "stdout",
     "output_type": "stream",
     "text": [
      "Prova 1\n",
      "Nota da prova:  1.258\n",
      "Media:  1.258\n",
      "Novo contador:  1\n",
      "*-*-*-*-*-*-*-*-*-*-*-*-*-*-*-*-*-*-*-*-*-*-*-*-*-*-*-*-*-*-\n",
      "Prova 2\n",
      "Nota da prova:  3.654\n",
      "Media:  4.912\n",
      "Novo contador:  2\n",
      "*-*-*-*-*-*-*-*-*-*-*-*-*-*-*-*-*-*-*-*-*-*-*-*-*-*-*-*-*-*-\n",
      "Prova 3\n",
      "Nota da prova:  4.258\n",
      "Media:  9.17\n",
      "Novo contador:  3\n",
      "*-*-*-*-*-*-*-*-*-*-*-*-*-*-*-*-*-*-*-*-*-*-*-*-*-*-*-*-*-*-\n",
      "Prova 4\n",
      "Nota da prova:  10.0\n",
      "Media:  19.17\n",
      "Novo contador:  4\n",
      "*-*-*-*-*-*-*-*-*-*-*-*-*-*-*-*-*-*-*-*-*-*-*-*-*-*-*-*-*-*-\n",
      "Prova 5\n",
      "Nota da prova:  10.0\n",
      "Media:  29.17\n",
      "Novo contador:  5\n",
      "*-*-*-*-*-*-*-*-*-*-*-*-*-*-*-*-*-*-*-*-*-*-*-*-*-*-*-*-*-*-\n",
      "Media Final:  6.0\n"
     ]
    }
   ],
   "source": [
    "#contador\n",
    "i = 0 \n",
    "#quantidade de provas\n",
    "n = int(input(\"Quantidade de provas: \"))\n",
    "\n",
    "media = 0\n",
    "\n",
    "while i < n:\n",
    "    #inserir nota \n",
    "    #ajuste do input - name\n",
    "    name = \"prova\" + str(i + 1) + \":\"\n",
    "    prova = float(input(name))\n",
    "    print(\"Prova\", i + 1)\n",
    "    print(\"Nota da prova: \", prova)\n",
    "\n",
    "    media = media + prova\n",
    "    print(\"Media: \", media)\n",
    "    \n",
    "    \n",
    "    i += 1                          #equivalente a i = i + 1\n",
    "    print(\"Novo contador: \", i)\n",
    "    print(\"*-\"*30)\n",
    "\n",
    "x = media / n\n",
    "y = 0\n",
    "media_final = round(x,y)\n",
    "print(\"Media Final: \", media_final)"
   ]
  },
  {
   "cell_type": "code",
   "execution_count": 14,
   "metadata": {},
   "outputs": [
    {
     "name": "stdout",
     "output_type": "stream",
     "text": [
      "prova 1:\n",
      "<class 'str'>\n"
     ]
    }
   ],
   "source": [
    "i = 0\n",
    "name = \"prova \" + str(i + 1) + \":\"\n",
    "print(name)\n",
    "print(type(name))"
   ]
  },
  {
   "attachments": {},
   "cell_type": "markdown",
   "metadata": {},
   "source": [
    "- Desafio: Criar um código que realize o cálculo das médias com peso nas notas"
   ]
  }
 ],
 "metadata": {
  "kernelspec": {
   "display_name": "venv",
   "language": "python",
   "name": "python3"
  },
  "language_info": {
   "codemirror_mode": {
    "name": "ipython",
    "version": 3
   },
   "file_extension": ".py",
   "mimetype": "text/x-python",
   "name": "python",
   "nbconvert_exporter": "python",
   "pygments_lexer": "ipython3",
   "version": "3.10.9"
  },
  "orig_nbformat": 4,
  "vscode": {
   "interpreter": {
    "hash": "048a68f64f00caf1b8a6c4e4e1b6d65ff2a5b016626c2aeee755cba713573629"
   }
  }
 },
 "nbformat": 4,
 "nbformat_minor": 2
}
