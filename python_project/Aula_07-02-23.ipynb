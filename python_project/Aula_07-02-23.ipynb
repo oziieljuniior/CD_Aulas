{
 "cells": [
  {
   "attachments": {},
   "cell_type": "markdown",
   "metadata": {},
   "source": [
    "# Aula 07-02-2023"
   ]
  },
  {
   "attachments": {},
   "cell_type": "markdown",
   "metadata": {},
   "source": [
    "- Exemplo 1"
   ]
  },
  {
   "cell_type": "code",
   "execution_count": 4,
   "metadata": {},
   "outputs": [
    {
     "name": "stdout",
     "output_type": "stream",
     "text": [
      "4.67\n"
     ]
    }
   ],
   "source": [
    "entrada1 = float(input(\"Nota 1: \"))                 #Variáveis salvas\n",
    "entrada2 = float(input(\"Nota 2: \"))\n",
    "entrada3 = float(input(\"Nota 3: \"))\n",
    "media = round((entrada1 + entrada2 + entrada3) / 3, 2) \n",
    "print(media)"
   ]
  },
  {
   "attachments": {},
   "cell_type": "markdown",
   "metadata": {},
   "source": [
    "- Exemplo 2"
   ]
  },
  {
   "cell_type": "code",
   "execution_count": 6,
   "metadata": {},
   "outputs": [
    {
     "name": "stdout",
     "output_type": "stream",
     "text": [
      "Estou rodando e vou atualizar o i\n",
      "Novo i:  1\n",
      "Estou rodando e vou atualizar o i\n",
      "Novo i:  2\n",
      "Estou rodando e vou atualizar o i\n",
      "Novo i:  3\n",
      "Estou rodando e vou atualizar o i\n",
      "Novo i:  4\n",
      "Estou rodando e vou atualizar o i\n",
      "Novo i:  5\n",
      "Estou rodando e vou atualizar o i\n",
      "Novo i:  6\n",
      "Estou rodando e vou atualizar o i\n",
      "Novo i:  7\n",
      "Estou rodando e vou atualizar o i\n",
      "Novo i:  8\n",
      "Estou rodando e vou atualizar o i\n",
      "Novo i:  9\n",
      "Estou rodando e vou atualizar o i\n",
      "Novo i:  10\n",
      "Estou rodando e vou atualizar o i\n",
      "Novo i:  11\n",
      "Apos rodar o codigo obtemos o novo i:  11\n"
     ]
    }
   ],
   "source": [
    "i = 0\n",
    "\n",
    "while i <= 10:\n",
    "    print(\"Estou rodando e vou atualizar o i\")\n",
    "    i = i + 1\n",
    "    print(\"Novo i: \", i)\n",
    "print(\"Apos rodar o codigo obtemos o novo i: \", i)"
   ]
  },
  {
   "attachments": {},
   "cell_type": "markdown",
   "metadata": {},
   "source": [
    "- Exemplo 3"
   ]
  },
  {
   "cell_type": "code",
   "execution_count": 10,
   "metadata": {},
   "outputs": [
    {
     "name": "stdout",
     "output_type": "stream",
     "text": [
      "Nota do aluno  1\n",
      "1.0\n",
      "2.0\n",
      "3.0\n",
      "1\n",
      "Nota do aluno  2\n",
      "4.0\n",
      "5.0\n",
      "6.0\n",
      "2\n",
      "Nota do aluno  3\n",
      "7.0\n",
      "8.0\n",
      "9.0\n",
      "3\n"
     ]
    }
   ],
   "source": [
    "#contador\n",
    "i = 0\n",
    "#quantidade de alunos\n",
    "n = int(input(\"Quantidade de alunos para calcular a media: \"))\n",
    "\n",
    "while i < n:\n",
    "    print(\"Nota do aluno \", i + 1)\n",
    "    entrada1 = float(input(\"Nota 1: \"))  #Variáveis salvas\n",
    "    print(entrada1)\n",
    "    entrada2 = float(input(\"Nota 2: \"))\n",
    "    print(entrada2)\n",
    "    entrada3 = float(input(\"Nota 3: \"))\n",
    "    print(entrada3)\n",
    "    #media = round((entrada1 + entrada2 + entrada3) / 3, 2) \n",
    "    #print(media)\n",
    "    \n",
    "    i = i + 1 \n",
    "    print(i)\n"
   ]
  }
 ],
 "metadata": {
  "kernelspec": {
   "display_name": "venv",
   "language": "python",
   "name": "python3"
  },
  "language_info": {
   "codemirror_mode": {
    "name": "ipython",
    "version": 3
   },
   "file_extension": ".py",
   "mimetype": "text/x-python",
   "name": "python",
   "nbconvert_exporter": "python",
   "pygments_lexer": "ipython3",
   "version": "3.10.9"
  },
  "orig_nbformat": 4,
  "vscode": {
   "interpreter": {
    "hash": "048a68f64f00caf1b8a6c4e4e1b6d65ff2a5b016626c2aeee755cba713573629"
   }
  }
 },
 "nbformat": 4,
 "nbformat_minor": 2
}
