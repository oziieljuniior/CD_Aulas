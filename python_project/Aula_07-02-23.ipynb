{
 "cells": [
  {
   "attachments": {},
   "cell_type": "markdown",
   "metadata": {},
   "source": [
    "# Aula 07-02-2023"
   ]
  },
  {
   "attachments": {},
   "cell_type": "markdown",
   "metadata": {},
   "source": [
    "- Exemplo 1"
   ]
  },
  {
   "cell_type": "code",
   "execution_count": 3,
   "metadata": {},
   "outputs": [
    {
     "name": "stdout",
     "output_type": "stream",
     "text": [
      "2.33\n"
     ]
    }
   ],
   "source": [
    "entrada1 = float(input(\"Nota 1: \"))                 #Variáveis salvas\n",
    "entrada2 = float(input(\"Nota 2: \"))\n",
    "entrada3 = float(input(\"Nota 3: \"))\n",
    "media = round((entrada1 + entrada2 + entrada3) / 3, 2) \n",
    "print(media)"
   ]
  },
  {
   "attachments": {},
   "cell_type": "markdown",
   "metadata": {},
   "source": [
    "- Exemplo 2"
   ]
  },
  {
   "cell_type": "code",
   "execution_count": 5,
   "metadata": {},
   "outputs": [
    {
     "name": "stdout",
     "output_type": "stream",
     "text": [
      "Estou rodando e vou atualizar o i\n",
      "Novo i:  6\n",
      "Estou rodando e vou atualizar o i\n",
      "Novo i:  7\n",
      "Estou rodando e vou atualizar o i\n",
      "Novo i:  8\n",
      "Estou rodando e vou atualizar o i\n",
      "Novo i:  9\n",
      "Estou rodando e vou atualizar o i\n",
      "Novo i:  10\n",
      "Apos rodar o codigo obtemos o novo i:  10\n"
     ]
    }
   ],
   "source": [
    "i = 5\n",
    "\n",
    "while i < 10:\n",
    "    print(\"Estou rodando e vou atualizar o i\")\n",
    "    i = i + 1\n",
    "    print(\"Novo i: \", i)\n",
    "print(\"Apos rodar o codigo obtemos o novo i: \", i)"
   ]
  },
  {
   "attachments": {},
   "cell_type": "markdown",
   "metadata": {},
   "source": [
    "- Exemplo 3"
   ]
  },
  {
   "cell_type": "code",
   "execution_count": 6,
   "metadata": {},
   "outputs": [
    {
     "name": "stdout",
     "output_type": "stream",
     "text": [
      "Nota do aluno  1\n",
      "Nota 1:  2.0\n",
      "Nota 2:  3.0\n",
      "Nota 3:  4.0\n",
      "Media:  3.0\n",
      "contador novo:  2\n",
      "*-*-*-*-*-*-*-*-*-*-*-*-*-*-*-*-*-*-*-*-*-*-*-*-*-*-*-*-*-*-*-*-*-*-*-*-*-*-*-*-*-*-*-*-*-*-*-*-*-*-\n",
      "Nota do aluno  2\n",
      "Nota 1:  5.0\n",
      "Nota 2:  6.0\n",
      "Nota 3:  7.0\n",
      "Media:  6.0\n",
      "contador novo:  3\n",
      "*-*-*-*-*-*-*-*-*-*-*-*-*-*-*-*-*-*-*-*-*-*-*-*-*-*-*-*-*-*-*-*-*-*-*-*-*-*-*-*-*-*-*-*-*-*-*-*-*-*-\n",
      "Nota do aluno  3\n",
      "Nota 1:  8.0\n",
      "Nota 2:  9.0\n",
      "Nota 3:  0.0\n",
      "Media:  5.67\n",
      "contador novo:  4\n",
      "*-*-*-*-*-*-*-*-*-*-*-*-*-*-*-*-*-*-*-*-*-*-*-*-*-*-*-*-*-*-*-*-*-*-*-*-*-*-*-*-*-*-*-*-*-*-*-*-*-*-\n"
     ]
    }
   ],
   "source": [
    "#contador\n",
    "i = 1\n",
    "#quantidade de alunos\n",
    "n = int(input(\"Quantidade de alunos para calcular a media: \"))\n",
    "\n",
    "while i <= n:\n",
    "    print(\"Nota do aluno \", i )\n",
    "    entrada1 = float(input(\"Nota 1: \"))  #Variáveis salvas\n",
    "    print(\"Nota 1: \",entrada1)\n",
    "    entrada2 = float(input(\"Nota 2: \"))\n",
    "    print(\"Nota 2: \",entrada2)\n",
    "    entrada3 = float(input(\"Nota 3: \"))\n",
    "    print(\"Nota 3: \",entrada3)\n",
    "    #round ajusta a quantidade de casas decimais round(x,y)\n",
    "    #x - a operação matemática\n",
    "    #y - a quantidade de casas decimais ]\n",
    "    x = (entrada1 + entrada2 + entrada3) / 3\n",
    "    y = 2\n",
    "    media = round(x, y) \n",
    "    print(\"Media: \",media)\n",
    "    \n",
    "    i = i + 1 \n",
    "    print(\"contador novo: \", i)\n",
    "    print(\"*-\"*50)\n"
   ]
  },
  {
   "attachments": {},
   "cell_type": "markdown",
   "metadata": {},
   "source": [
    "- Exemplo 4"
   ]
  },
  {
   "cell_type": "code",
   "execution_count": 8,
   "metadata": {},
   "outputs": [
    {
     "name": "stdout",
     "output_type": "stream",
     "text": [
      "Prova 1\n",
      "Nota da prova:  7.2165414\n",
      "Media:  7.2165414\n",
      "Novo contador:  1\n",
      "*-*-*-*-*-*-*-*-*-*-*-*-*-*-*-*-*-*-*-*-*-*-*-*-*-*-*-*-*-*-\n",
      "Prova 2\n",
      "Nota da prova:  5.24654876\n",
      "Media:  12.46309016\n",
      "Novo contador:  2\n",
      "*-*-*-*-*-*-*-*-*-*-*-*-*-*-*-*-*-*-*-*-*-*-*-*-*-*-*-*-*-*-\n",
      "Media Final:  6.2315\n"
     ]
    }
   ],
   "source": [
    "#contador\n",
    "i = 0 \n",
    "#quantidade de provas\n",
    "n = int(input(\"Quantidade de provas: \"))\n",
    "\n",
    "media = 0\n",
    "\n",
    "while i < n:\n",
    "    #inserir nota \n",
    "    #ajuste do input - name\n",
    "    name = \"prova\" + str(i + 1) + \":\"\n",
    "    prova = float(input(name))\n",
    "    print(\"Prova\", i + 1)\n",
    "    print(\"Nota da prova: \", prova)\n",
    "\n",
    "    media = media + prova\n",
    "    print(\"Media: \", media)\n",
    "    \n",
    "    \n",
    "    i += 1                          #equivalente a i = i + 1\n",
    "    print(\"Novo contador: \", i)\n",
    "    print(\"*-\"*30)\n",
    "\n",
    "x = media / n\n",
    "y = 4\n",
    "media_final = round(x,y)\n",
    "print(\"Media Final: \", media_final)"
   ]
  },
  {
   "cell_type": "code",
   "execution_count": 14,
   "metadata": {},
   "outputs": [
    {
     "name": "stdout",
     "output_type": "stream",
     "text": [
      "prova 1:\n",
      "<class 'str'>\n"
     ]
    }
   ],
   "source": [
    "i = 0\n",
    "name = \"prova \" + str(i + 1) + \":\"\n",
    "print(name)\n",
    "print(type(name))"
   ]
  },
  {
   "attachments": {},
   "cell_type": "markdown",
   "metadata": {},
   "source": [
    "- Desafio: Criar um código que realize o cálculo das médias com peso nas notas"
   ]
  },
  {
   "cell_type": "code",
   "execution_count": 18,
   "metadata": {},
   "outputs": [
    {
     "name": "stdout",
     "output_type": "stream",
     "text": [
      "Entrada Valida\n",
      "1\n",
      "Nota da prova:  1\n",
      "7.0 2\n",
      "2\n",
      "Nota da prova:  2\n",
      "5.0 3\n",
      "3\n",
      "Nota da prova:  3\n",
      "3.0 3\n",
      "Media Final:  4.75\n"
     ]
    }
   ],
   "source": [
    "#O usuario deve inserir uma quantidade de notas \n",
    "#contador\n",
    "i = 0 \n",
    "#quantidade de provas n deve ser maior que zero \n",
    "while i == 0:\n",
    "    n = int(input(\"Quantidade de provas: \"))\n",
    "    #print(n)\n",
    "    #print(type(n))\n",
    "    #print(i)\n",
    "    if n <= 0:\n",
    "        print('Entrada invalida')\n",
    "    #caso contrario: else \n",
    "    else:\n",
    "        print(\"Entrada Valida\")\n",
    "        i = i + 1\n",
    "#print(i)\n",
    "\n",
    "#O usuario deve inserir o peso da prova e nota\n",
    "#contador\n",
    "j = 1\n",
    "\n",
    "#variavel final que determina a nota\n",
    "acumulo_prova_peso = 0\n",
    "acumulo_peso = 0\n",
    "\n",
    "while j <= n:\n",
    "    print(j)\n",
    "    print(\"Nota da prova: \", j)\n",
    "    nota = float(input(\"Nota: \"))\n",
    "    peso = int(input(\"Peso: \"))\n",
    "    print(nota, peso)\n",
    "\n",
    "    #print(\"Anterior: \", acumulo_prova_peso)\n",
    "    acumulo_prova_peso = nota*peso + acumulo_prova_peso\n",
    "    #print(\"Depois\", acumulo_prova_peso)\n",
    "    acumulo_peso = acumulo_peso + peso\n",
    "    #media = soma((np*p))/soma(p)\n",
    "\n",
    "    j = j + 1\n",
    "\n",
    "media = acumulo_prova_peso / acumulo_peso\n",
    "print('Media Final: ', media)\n"
   ]
  },
  {
   "cell_type": "code",
   "execution_count": null,
   "metadata": {},
   "outputs": [],
   "source": []
  }
 ],
 "metadata": {
  "kernelspec": {
   "display_name": "venv",
   "language": "python",
   "name": "python3"
  },
  "language_info": {
   "codemirror_mode": {
    "name": "ipython",
    "version": 3
   },
   "file_extension": ".py",
   "mimetype": "text/x-python",
   "name": "python",
   "nbconvert_exporter": "python",
   "pygments_lexer": "ipython3",
   "version": "3.10.9"
  },
  "orig_nbformat": 4,
  "vscode": {
   "interpreter": {
    "hash": "048a68f64f00caf1b8a6c4e4e1b6d65ff2a5b016626c2aeee755cba713573629"
   }
  }
 },
 "nbformat": 4,
 "nbformat_minor": 2
}
